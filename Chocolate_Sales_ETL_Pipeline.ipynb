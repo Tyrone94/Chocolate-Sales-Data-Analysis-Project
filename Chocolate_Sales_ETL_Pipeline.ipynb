{
 "cells": [
  {
   "cell_type": "code",
   "execution_count": 20,
   "id": "ec8cdfa2",
   "metadata": {},
   "outputs": [],
   "source": [
    "import pandas as pd"
   ]
  },
  {
   "cell_type": "code",
   "execution_count": 21,
   "id": "8a7f54cb",
   "metadata": {},
   "outputs": [
    {
     "name": "stdout",
     "output_type": "stream",
     "text": [
      "<class 'pandas.core.frame.DataFrame'>\n",
      "RangeIndex: 1094 entries, 0 to 1093\n",
      "Data columns (total 6 columns):\n",
      " #   Column         Non-Null Count  Dtype \n",
      "---  ------         --------------  ----- \n",
      " 0   Sales Person   1094 non-null   object\n",
      " 1   Country        1094 non-null   object\n",
      " 2   Product        1094 non-null   object\n",
      " 3   Date           1094 non-null   object\n",
      " 4   Amount         1094 non-null   object\n",
      " 5   Boxes Shipped  1094 non-null   int64 \n",
      "dtypes: int64(1), object(5)\n",
      "memory usage: 51.4+ KB\n"
     ]
    }
   ],
   "source": [
    "# Ensure the dataframe is defined\n",
    "df = pd.read_csv('Chocolate_Sales.csv')\n",
    "\n",
    "# Display dataframe information\n",
    "df.info()"
   ]
  },
  {
   "cell_type": "markdown",
   "id": "82848878",
   "metadata": {},
   "source": [
    "# 1. Extract"
   ]
  },
  {
   "cell_type": "code",
   "execution_count": 22,
   "id": "7a0c0b8c",
   "metadata": {},
   "outputs": [
    {
     "name": "stdout",
     "output_type": "stream",
     "text": [
      "Extracted Data:\n",
      "     Sales Person    Country              Product       Date    Amount  \\\n",
      "0  Jehu Rudeforth         UK      Mint Chip Choco  04-Jan-22   $5,320    \n",
      "1     Van Tuxwell      India        85% Dark Bars  01-Aug-22   $7,896    \n",
      "2    Gigi Bohling      India  Peanut Butter Cubes  07-Jul-22   $4,501    \n",
      "3    Jan Morforth  Australia  Peanut Butter Cubes  27-Apr-22  $12,726    \n",
      "4  Jehu Rudeforth         UK  Peanut Butter Cubes  24-Feb-22  $13,685    \n",
      "\n",
      "   Boxes Shipped  \n",
      "0            180  \n",
      "1             94  \n",
      "2             91  \n",
      "3            342  \n",
      "4            184  \n"
     ]
    }
   ],
   "source": [
    "df = pd.read_csv('Chocolate_Sales.csv')\n",
    "print(\"Extracted Data:\")\n",
    "print(df.head())"
   ]
  },
  {
   "cell_type": "markdown",
   "id": "fafb140d",
   "metadata": {},
   "source": [
    "# 2. Transformation"
   ]
  },
  {
   "cell_type": "markdown",
   "id": "c8db2a8f",
   "metadata": {},
   "source": [
    "## Removing leading and trailing spaces from column names:"
   ]
  },
  {
   "cell_type": "code",
   "execution_count": 16,
   "id": "8af87ca7",
   "metadata": {},
   "outputs": [
    {
     "name": "stdout",
     "output_type": "stream",
     "text": [
      "Transformed Data:\n",
      "     Sales Person    Country              Product       Date    Amount  \\\n",
      "0  Jehu Rudeforth         UK      Mint Chip Choco  04-Jan-22   $5,320    \n",
      "1     Van Tuxwell      India        85% Dark Bars  01-Aug-22   $7,896    \n",
      "2    Gigi Bohling      India  Peanut Butter Cubes  07-Jul-22   $4,501    \n",
      "3    Jan Morforth  Australia  Peanut Butter Cubes  27-Apr-22  $12,726    \n",
      "4  Jehu Rudeforth         UK  Peanut Butter Cubes  24-Feb-22  $13,685    \n",
      "\n",
      "   Boxes Shipped  \n",
      "0            180  \n",
      "1             94  \n",
      "2             91  \n",
      "3            342  \n",
      "4            184  \n"
     ]
    }
   ],
   "source": [
    "df.columns = df.columns.str.strip()\n",
    "print(\"Transformed Data:\")\n",
    "print(df.head())"
   ]
  },
  {
   "cell_type": "markdown",
   "id": "f46ed418",
   "metadata": {},
   "source": [
    "## Removing leading and trailing spaces from string data in each column"
   ]
  },
  {
   "cell_type": "code",
   "execution_count": 17,
   "id": "990ea12d",
   "metadata": {},
   "outputs": [
    {
     "name": "stdout",
     "output_type": "stream",
     "text": [
      "Data after removing leading and trailing spaces:\n",
      "     Sales Person    Country              Product       Date   Amount  \\\n",
      "0  Jehu Rudeforth         UK      Mint Chip Choco  04-Jan-22   $5,320   \n",
      "1     Van Tuxwell      India        85% Dark Bars  01-Aug-22   $7,896   \n",
      "2    Gigi Bohling      India  Peanut Butter Cubes  07-Jul-22   $4,501   \n",
      "3    Jan Morforth  Australia  Peanut Butter Cubes  27-Apr-22  $12,726   \n",
      "4  Jehu Rudeforth         UK  Peanut Butter Cubes  24-Feb-22  $13,685   \n",
      "\n",
      "   Boxes Shipped  \n",
      "0            180  \n",
      "1             94  \n",
      "2             91  \n",
      "3            342  \n",
      "4            184  \n"
     ]
    },
    {
     "name": "stderr",
     "output_type": "stream",
     "text": [
      "C:\\Users\\Capaciti\\AppData\\Local\\Temp\\ipykernel_19128\\1184585809.py:1: FutureWarning: DataFrame.applymap has been deprecated. Use DataFrame.map instead.\n",
      "  df = df.applymap(lambda x: x.strip() if isinstance(x, str) else x)\n"
     ]
    }
   ],
   "source": [
    "df = df.applymap(lambda x: x.strip() if isinstance(x, str) else x)\n",
    "print(\"Data after removing leading and trailing spaces:\")\n",
    "print(df.head())"
   ]
  },
  {
   "cell_type": "markdown",
   "id": "7efcadef",
   "metadata": {},
   "source": [
    "## Converting the Amount column to numeric values by removing $ and , characters"
   ]
  },
  {
   "cell_type": "code",
   "execution_count": 18,
   "id": "b17462dc",
   "metadata": {},
   "outputs": [
    {
     "name": "stdout",
     "output_type": "stream",
     "text": [
      "Data after converting 'Amount' column to numeric:\n",
      "     Sales Person    Country              Product       Date   Amount  \\\n",
      "0  Jehu Rudeforth         UK      Mint Chip Choco  04-Jan-22   5320.0   \n",
      "1     Van Tuxwell      India        85% Dark Bars  01-Aug-22   7896.0   \n",
      "2    Gigi Bohling      India  Peanut Butter Cubes  07-Jul-22   4501.0   \n",
      "3    Jan Morforth  Australia  Peanut Butter Cubes  27-Apr-22  12726.0   \n",
      "4  Jehu Rudeforth         UK  Peanut Butter Cubes  24-Feb-22  13685.0   \n",
      "\n",
      "   Boxes Shipped  \n",
      "0            180  \n",
      "1             94  \n",
      "2             91  \n",
      "3            342  \n",
      "4            184  \n"
     ]
    },
    {
     "name": "stderr",
     "output_type": "stream",
     "text": [
      "<>:1: SyntaxWarning: invalid escape sequence '\\$'\n",
      "<>:1: SyntaxWarning: invalid escape sequence '\\$'\n",
      "C:\\Users\\Capaciti\\AppData\\Local\\Temp\\ipykernel_19128\\3808448705.py:1: SyntaxWarning: invalid escape sequence '\\$'\n",
      "  df['Amount'] = df['Amount'].replace('[\\$,]', '', regex=True).astype(float)\n"
     ]
    }
   ],
   "source": [
    "df['Amount'] = df['Amount'].replace('[\\$,]', '', regex=True).astype(float)\n",
    "print(\"Data after converting 'Amount' column to numeric:\")\n",
    "print(df.head())"
   ]
  },
  {
   "cell_type": "markdown",
   "id": "d0feda38",
   "metadata": {},
   "source": [
    "## Converting the Date column to datetime format"
   ]
  },
  {
   "cell_type": "code",
   "execution_count": 19,
   "id": "07e41dfd",
   "metadata": {},
   "outputs": [
    {
     "ename": "NameError",
     "evalue": "name 'sdf' is not defined",
     "output_type": "error",
     "traceback": [
      "\u001b[1;31m---------------------------------------------------------------------------\u001b[0m",
      "\u001b[1;31mNameError\u001b[0m                                 Traceback (most recent call last)",
      "Cell \u001b[1;32mIn[19], line 1\u001b[0m\n\u001b[1;32m----> 1\u001b[0m sdf[\u001b[38;5;124m'\u001b[39m\u001b[38;5;124mDate\u001b[39m\u001b[38;5;124m'\u001b[39m] \u001b[38;5;241m=\u001b[39m pd\u001b[38;5;241m.\u001b[39mto_datetime(df[\u001b[38;5;124m'\u001b[39m\u001b[38;5;124mDate\u001b[39m\u001b[38;5;124m'\u001b[39m], \u001b[38;5;28mformat\u001b[39m\u001b[38;5;241m=\u001b[39m\u001b[38;5;124m'\u001b[39m\u001b[38;5;132;01m%d\u001b[39;00m\u001b[38;5;124m-\u001b[39m\u001b[38;5;124m%\u001b[39m\u001b[38;5;124mb-\u001b[39m\u001b[38;5;124m%\u001b[39m\u001b[38;5;124my\u001b[39m\u001b[38;5;124m'\u001b[39m)\n\u001b[0;32m      2\u001b[0m \u001b[38;5;28mprint\u001b[39m(\u001b[38;5;124m\"\u001b[39m\u001b[38;5;124mData after converting \u001b[39m\u001b[38;5;124m'\u001b[39m\u001b[38;5;124mDate\u001b[39m\u001b[38;5;124m'\u001b[39m\u001b[38;5;124m column to datetime:\u001b[39m\u001b[38;5;124m\"\u001b[39m)\n\u001b[0;32m      3\u001b[0m \u001b[38;5;28mprint\u001b[39m(df\u001b[38;5;241m.\u001b[39mhead())\n",
      "\u001b[1;31mNameError\u001b[0m: name 'sdf' is not defined"
     ]
    }
   ],
   "source": [
    "sdf['Date'] = pd.to_datetime(df['Date'], format='%d-%b-%y')\n",
    "print(\"Data after converting 'Date' column to datetime:\")\n",
    "print(df.head())"
   ]
  },
  {
   "cell_type": "markdown",
   "id": "6f41b0d3",
   "metadata": {},
   "source": [
    "# 3. Loading"
   ]
  },
  {
   "cell_type": "code",
   "execution_count": null,
   "id": "039a6ee7",
   "metadata": {},
   "outputs": [],
   "source": [
    "df.to_csv('Chocolate_Sales_Cleaned.csv', index=False)\n",
    "print(\"\\nTransformed Data:\")\n",
    "print(df.head())\n",
    "print(\"\\nThe cleaned and transformed data has been saved to 'Chocolate_Sales_Cleaned.csv'.\")\n"
   ]
  },
  {
   "cell_type": "markdown",
   "id": "9b1b9236",
   "metadata": {},
   "source": [
    "# 4. ETL Pipeline"
   ]
  },
  {
   "cell_type": "code",
   "execution_count": null,
   "id": "2d24d586",
   "metadata": {},
   "outputs": [
    {
     "ename": "NameError",
     "evalue": "name 'etl_pipeline' is not defined",
     "output_type": "error",
     "traceback": [
      "\u001b[1;31m---------------------------------------------------------------------------\u001b[0m",
      "\u001b[1;31mNameError\u001b[0m                                 Traceback (most recent call last)",
      "Cell \u001b[1;32mIn[5], line 3\u001b[0m\n\u001b[0;32m      1\u001b[0m input_file_path \u001b[38;5;241m=\u001b[39m \u001b[38;5;124m'\u001b[39m\u001b[38;5;124mChocolate_Sales.csv\u001b[39m\u001b[38;5;124m'\u001b[39m\n\u001b[0;32m      2\u001b[0m output_file_path \u001b[38;5;241m=\u001b[39m \u001b[38;5;124m'\u001b[39m\u001b[38;5;124mChocolate_Sales_Cleaned.csv\u001b[39m\u001b[38;5;124m'\u001b[39m\n\u001b[1;32m----> 3\u001b[0m etl_pipeline(input_file_path, output_file_path)\n",
      "\u001b[1;31mNameError\u001b[0m: name 'etl_pipeline' is not defined"
     ]
    }
   ],
   "source": [
    "\n",
    "input_file_path = 'Chocolate_Sales.csv'\n",
    "output_file_path = 'Chocolate_Sales_Cleaned.csv'\n",
    "etl_pipeline(input_file_path, output_file_path)\n"
   ]
  }
 ],
 "metadata": {
  "kernelspec": {
   "display_name": "base",
   "language": "python",
   "name": "python3"
  },
  "language_info": {
   "codemirror_mode": {
    "name": "ipython",
    "version": 3
   },
   "file_extension": ".py",
   "mimetype": "text/x-python",
   "name": "python",
   "nbconvert_exporter": "python",
   "pygments_lexer": "ipython3",
   "version": "3.12.7"
  }
 },
 "nbformat": 4,
 "nbformat_minor": 5
}
